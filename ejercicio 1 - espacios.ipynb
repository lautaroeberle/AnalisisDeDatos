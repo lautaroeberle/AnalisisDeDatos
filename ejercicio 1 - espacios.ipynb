{
  "nbformat": 4,
  "nbformat_minor": 0,
  "metadata": {
    "colab": {
      "provenance": []
    },
    "kernelspec": {
      "name": "python3",
      "display_name": "Python 3"
    },
    "language_info": {
      "name": "python"
    }
  },
  "cells": [
    {
      "cell_type": "code",
      "execution_count": null,
      "metadata": {
        "id": "TOiXu5L4yIK9"
      },
      "outputs": [],
      "source": []
    },
    {
      "cell_type": "code",
      "source": [
        "\n",
        "def quitar_espacios(cadena):\n",
        "  return cadena.replace(\" \", \"\")\n",
        "lista = []\n",
        "while True:\n",
        "  elemento = input(\"Ingrese un elemento o escriba .salir. para salir del programa \")\n",
        "  if elemento == \"salir\":\n",
        "    break\n",
        "  lista.append(elemento)\n",
        "lista_sin_espacios = [quitar_espacios(entrada) for entrada in lista]\n",
        "print(\"Lista sin espacios:\")\n",
        "print(lista_sin_espacios)"
      ],
      "metadata": {
        "colab": {
          "base_uri": "https://localhost:8080/"
        },
        "id": "7joR5m2ezj7D",
        "outputId": "eec76b45-b21e-4862-cba3-b49eae09a1c7"
      },
      "execution_count": 4,
      "outputs": [
        {
          "output_type": "stream",
          "name": "stdout",
          "text": [
            "Ingrese un elemento o escriba .salir. para salir del programa aaaaa\n",
            "Ingrese un elemento o escriba .salir. para salir del programa beeeeeee\n",
            "Ingrese un elemento o escriba .salir. para salir del programa seeeeeee\n",
            "Ingrese un elemento o escriba .salir. para salir del programa salir\n",
            "Lista sin espacios:\n",
            "['aaaaa', 'beeeeeee', 'seeeeeee']\n"
          ]
        }
      ]
    }
  ]
}